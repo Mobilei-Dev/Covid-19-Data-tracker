{
 "cells": [
  {
   "cell_type": "markdown",
   "metadata": {},
   "source": [
    "# 📘 COVID-19 Global Data Report"
   ]
  },
  {
   "cell_type": "code",
   "execution_count": null,
   "metadata": {},
   "outputs": [],
   "source": [
    "# 📌 Section 1: Setup\n",
    "import pandas as pd\n",
    "import numpy as np\n",
    "import matplotlib.pyplot as plt\n",
    "import seaborn as sns\n",
    "import plotly.express as px\n",
    "from datetime import datetime\n",
    "\n",
    "# Optional: Enable interactive widgets\n",
    "from ipywidgets import interact, widgets\n",
    "from IPython.display import display\n",
    "\n",
    "sns.set(style=\"whitegrid\")\n",
    "plt.rcParams[\"figure.figsize\"] = (12, 6)"
   ]
  },
  {
   "cell_type": "code",
   "execution_count": null,
   "metadata": {},
   "outputs": [],
   "source": [
    "# 📌 Section 2: Load Data\n",
    "url = \"https://covid.ourworldindata.org/data/owid-covid-data.csv\"\n",
    "df = pd.read_csv(url, parse_dates=['date'])\n",
    "df.head()"
   ]
  },
  {
   "cell_type": "code",
   "execution_count": null,
   "metadata": {},
   "outputs": [],
   "source": [
    "# 📌 Section 3: Data Cleaning\n",
    "columns = [\n",
    "    'iso_code', 'continent', 'location', 'date',\n",
    "    'total_cases', 'new_cases', 'total_deaths', 'new_deaths',\n",
    "    'total_vaccinations', 'people_vaccinated', 'people_fully_vaccinated',\n",
    "    'hosp_patients', 'icu_patients', 'population'\n",
    "]\n",
    "df = df[columns]\n",
    "df.sort_values(['location', 'date'], inplace=True)\n",
    "df.fillna(method='ffill', inplace=True)\n",
    "df = df[df['continent'].notna()]"
   ]
  },
  {
   "cell_type": "code",
   "execution_count": null,
   "metadata": {},
   "outputs": [],
   "source": [
    "# 📌 Section 4: User Input with Widgets (Optional)\n",
    "countries = df['location'].unique().tolist()\n",
    "min_date = df['date'].min()\n",
    "max_date = df['date'].max()\n",
    "\n",
    "country_selector = widgets.Dropdown(options=countries, value=\"United States\", description='Country:')\n",
    "date_range_slider = widgets.SelectionRangeSlider(\n",
    "    options=pd.date_range(start=min_date, end=max_date, freq='D'),\n",
    "    index=(0, len(pd.date_range(start=min_date, end=max_date, freq='D')) - 1),\n",
    "    description='Date Range:',\n",
    "    layout={'width': '90%'}\n",
    ")\n",
    "display(country_selector, date_range_slider)"
   ]
  },
  {
   "cell_type": "code",
   "execution_count": null,
   "metadata": {},
   "outputs": [],
   "source": [
    "# 📌 Section 5: Filtered Dataset Function\n",
    "def get_filtered_data(country, start_date, end_date):\n",
    "    mask = (\n",
    "        (df['location'] == country) &\n",
    "        (df['date'] >= start_date) &\n",
    "        (df['date'] <= end_date)\n",
    "    )\n",
    "    return df[mask]"
   ]
  },
  {
   "cell_type": "code",
   "execution_count": null,
   "metadata": {},
   "outputs": [],
   "source": [
    "# 📌 Section 6: EDA & Visualizations\n",
    "country = country_selector.value\n",
    "start_date, end_date = date_range_slider.value\n",
    "\n",
    "df_filtered = get_filtered_data(country, start_date, end_date)\n",
    "\n",
    "# Total Cases\n",
    "fig = px.line(df_filtered, x='date', y='total_cases', title=f'Total COVID-19 Cases in {country}')\n",
    "fig.show()\n",
    "\n",
    "# Death Rate\n",
    "df_filtered['death_rate'] = df_filtered['total_deaths'] / df_filtered['total_cases']\n",
    "fig = px.line(df_filtered, x='date', y='death_rate', title=f'Death Rate in {country}')\n",
    "fig.show()\n",
    "\n",
    "# Vaccination Rate\n",
    "df_filtered['vaccinated_pct'] = df_filtered['people_vaccinated'] / df_filtered['population']\n",
    "fig = px.line(df_filtered, x='date', y='vaccinated_pct', title=f'Vaccination Coverage in {country}')\n",
    "fig.show()\n",
    "\n",
    "# Hospitalization\n",
    "if df_filtered['hosp_patients'].notna().sum() > 0:\n",
    "    fig = px.line(df_filtered, x='date', y='hosp_patients', title=f'Hospitalized Patients in {country}')\n",
    "    fig.show()"
   ]
  },
  {
   "cell_type": "code",
   "execution_count": null,
   "metadata": {},
   "outputs": [],
   "source": [
    "# 📌 Section 7: Country Comparison\n",
    "latest = df[df['date'] == df['date'].max()]\n",
    "latest = latest[latest['total_cases'].notna()]\n",
    "top10 = latest.sort_values('total_cases', ascending=False).head(10)\n",
    "fig = px.bar(top10, x='location', y='total_cases', title='Top 10 Countries by Total Cases')\n",
    "fig.show()"
   ]
  },
  {
   "cell_type": "markdown",
   "metadata": {},
   "source": [
    "# 📌 Section 8: Summary & Insights\n",
    "- What patterns are clear?\n",
    "- Are cases rising or falling?\n",
    "- How does vaccination affect the death rate?\n",
    "- Add your observations and conclusions here."
   ]
  }
 ],
 "metadata": {
  "kernelspec": {
   "display_name": "Python 3",
   "language": "python",
   "name": "python3"
  },
  "language_info": {
   "name": "python",
   "version": ""
  }
 },
 "nbformat": 4,
 "nbformat_minor": 4
}
